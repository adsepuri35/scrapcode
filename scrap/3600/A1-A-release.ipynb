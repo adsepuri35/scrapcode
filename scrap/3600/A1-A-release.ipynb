{
 "cells": [
  {
   "cell_type": "markdown",
   "metadata": {
    "id": "gKTBPBJy-MIp"
   },
   "source": [
    "# Part 1 - Text Adventure Games\n",
    "## Overview\n",
    "*Text Adventure Games* are games in which the player interacts with a rich world only through text. Text adventure games predate computers with graphics. However, in many ways they are more complex than conventional video games because they can involve complicated interactions (e.g., \"build a rope bridge\") that require a fair amount of imagination. Indeed, text adventure games are used as [research testbeds](https://arxiv.org/abs/1909.05398) for natural language processing agents.\n",
    "\n",
    "The canonical text adventure game is [Zork](https://en.wikipedia.org/wiki/Zork), in which the player discover an abandoned underworld realm full of treasure. You can find online playable versions.\n",
    "\n",
    "A text game is made up of individual locations--also called \"rooms\", though they need not be indoor enclosed spaces as the term might imply. The agent can move between rooms and interact with objects by typing in short commands like \"move north\" and \"take lamp\".\n",
    "\n",
    "In this assignment, we will use a special package that implements text worlds for testing agents: [TextWorld-Express](https://github.com/cognitiveailab/TextWorldExpress). Textworld-Express simplifies text worlds in a few ways: it uses a reduced set of text commands, and rooms laid out in a grid.\n",
    "TextWorld-Express also implements a few different game objectives, such as cooking, and searching for coins.\n",
    "TextWorld-Express generates world configurations, so we will need to implement algorithms that are able to complete different game objectives in different world configurations.\n",
    "\n",
    "In this part of the assignment, our agents will play two different games:\n",
    "- **Coin Game**: a game in which the agent must search for and pick up a single coin.\n",
    "- **Map Reader**: a game in which the agent must find a coin and return it to a box at the starting location.\n",
    "\n",
    "We will be implementing various search algorithms towards these games to help the agent succeed!\n",
    "\n",
    "## Important Notes and Guidelines\n",
    "- You are **only** allowed to use a restricted set of libraries for this assignment. All packages that come with the default Python installation are permitted, as well as any imports we have already provided for you. You may not use any other libraries than the ones we have provided. If you attempt to use other libraries, the autograder will not be able to run your code.\n",
    "- In the Map Reader game, you must use a single search loop (you cannot run a search to the coin and then a separate search to the box). You cannot write specialized code for handling the Map Reader game. You cannot memorize the path to the coin and then reverse it.\n",
    "- Do not change the data within the global variables containing environment data that are loaded from file.\n",
    "- TextWorldExpress requires Java 1.8 or higher to be installed on your system. For more information, see the [TextWorld-Express README](https://github.com/cognitiveailab/TextWorldExpress).\n",
    "- Do not modify any function signatures or the global variables provided in the notebook. You may add additional helper functions as needed - do not add them to separate cells, as they will not be exported in the autograder. **Any helper functions should be nested within the function that uses them.**\n",
    "\n",
    "## Helpful Tips\n",
    "- If you break execution of a cell running the game engine, you may put TextWorld-Express in an un-recoverable state. If this happens, you will need to reset your kernel/runtime.\n",
    "- In the Map Reader game, you cannot use the map information (it isn't helpful anyway).\n",
    "- You cannot (and shouldn't) filter any actions. We've already filtered out the actions that we don't want your agent to have to consider. For example, the \"take map\" action is never helpful, but you must explore it. Your implementations should quickly realize that that action creates a state self-loop and disregard it.\n",
    "- Think about when you mark a state as visited. You should mark a state as visited when you have visited it, not when you are about to visit it. This will help you avoid infinite loops and cycles - this is a core concept in uninformed and informed search algorithms. "
   ]
  },
  {
   "cell_type": "markdown",
   "metadata": {
    "id": "NMJadvTO-O7z"
   },
   "source": [
    "# Installation"
   ]
  },
  {
   "cell_type": "markdown",
   "metadata": {
    "id": "AdVL2D-B-qYC"
   },
   "source": [
    "Install the `TextWorld-Express` engine, and `graphviz` and `pydot` for visualization of the graphs!"
   ]
  },
  {
   "cell_type": "code",
   "execution_count": null,
   "metadata": {
    "colab": {
     "base_uri": "https://localhost:8080/"
    },
    "executionInfo": {
     "elapsed": 30973,
     "status": "ok",
     "timestamp": 1727280292995,
     "user": {
      "displayName": "Sanskriti Gupta",
      "userId": "14423739044698282671"
     },
     "user_tz": 240
    },
    "id": "Q_jkFnjg-C7N",
    "outputId": "9504434c-dd97-47a5-a89d-9c58453b9bbe"
   },
   "outputs": [
    {
     "ename": "",
     "evalue": "",
     "output_type": "error",
     "traceback": [
      "\u001b[1;31mRunning cells with 'base (Python 3.12.8)' requires the ipykernel package.\n",
      "\u001b[1;31mRun the following command to install 'ipykernel' into the Python environment. \n",
      "\u001b[1;31mCommand: 'conda install -n base ipykernel --update-deps --force-reinstall'"
     ]
    }
   ],
   "source": [
    "%pip install textworld-express\n",
    "%pip install graphviz\n",
    "%pip install pydot"
   ]
  },
  {
   "cell_type": "markdown",
   "metadata": {
    "id": "f0GaE8xE-T6A"
   },
   "source": [
    "# Imports"
   ]
  },
  {
   "cell_type": "code",
   "execution_count": 2,
   "metadata": {
    "executionInfo": {
     "elapsed": 331,
     "status": "ok",
     "timestamp": 1727280293314,
     "user": {
      "displayName": "Sanskriti Gupta",
      "userId": "14423739044698282671"
     },
     "user_tz": 240
    },
    "id": "_ScAIKmf-Vmm"
   },
   "outputs": [],
   "source": [
    "# export - DO NOT MODIFY THIS CELL\n",
    "\n",
    "# provided imports\n",
    "from IPython.display import Image\n",
    "from textworld_express import TextWorldExpressEnv\n",
    "from typing import Union\n",
    "import copy\n",
    "import graphviz\n",
    "import json\n",
    "import math\n",
    "import networkx as nx\n",
    "import os\n",
    "import pydot\n",
    "import re\n"
   ]
  },
  {
   "cell_type": "code",
   "execution_count": null,
   "metadata": {},
   "outputs": [],
   "source": [
    "# export - DO NOT MODIFY OR MOVE THIS LINE \n",
    "# Add any additional imports (from the Python Standard Library only) here\n"
   ]
  },
  {
   "cell_type": "markdown",
   "metadata": {
    "id": "c9z6aZSrCTIi"
   },
   "source": [
    "# Load Data for Assignments"
   ]
  },
  {
   "cell_type": "markdown",
   "metadata": {
    "id": "fGWoBDPCCX-9"
   },
   "source": [
    "For this assignment, we will provide you data for several combinations of game type, seed, and game parameters. You can use this data to test your agent. It includes several ways of achieving full-observability in an otherwise partially observable environment. Each combination of game type, seed, and game parameters is stored in a file with filename `gametype+parameters+seed.json`.\n",
    "\n",
    "For example: \"mapreader+numLocations=5,maxDistanceApart=3,includeDoors=0,maxDistractorItemsPerLocation=0+seed=3.json\"."
   ]
  },
  {
   "cell_type": "markdown",
   "metadata": {},
   "source": [
    "**First, let's retrieve all the environment files.** If the script is unable to execute the `wget` or the `curl` commands, you can download the file manually from the following link: [environment files](https://www.dropbox.com/scl/fi/i0pws1rtkm4rse71rc6xr/environment_files.tgz?rlkey=n1w3l79z1qmnhc5qlyx0vanr0&st=fj80iq1z&dl=0), and then extract the files into a folder called `environment_files` to the same directory as this notebook by running the cell below."
   ]
  },
  {
   "cell_type": "code",
   "execution_count": null,
   "metadata": {},
   "outputs": [],
   "source": [
    "import os\n",
    "\n",
    "# link to the environment files\n",
    "ENVIRONMENT_FILES_URL = \"https://www.dropbox.com/scl/fi/i0pws1rtkm4rse71rc6xr/environment_files.tgz?rlkey=n1w3l79z1qmnhc5qlyx0vanr0&st=fj80iq1z&dl=0\"\n",
    "OUTPUT_ZIP_PATH = \"environment_files.tgz\"\n",
    "\n",
    "# trying wget\n",
    "if not os.path.isfile(OUTPUT_ZIP_PATH):\n",
    "    !wget -O {OUTPUT_ZIP_PATH} 'https://www.dropbox.com/scl/fi/i0pws1rtkm4rse71rc6xr/environment_files.tgz?rlkey=n1w3l79z1qmnhc5qlyx0vanr0&st=fj80iq1z&dl=0'\n",
    "    !tar -xzvf {OUTPUT_ZIP_PATH}\n",
    "\n",
    "# trying curl\n",
    "if not os.path.isfile(OUTPUT_ZIP_PATH):\n",
    "    !curl -L -o {OUTPUT_ZIP_PATH} 'https://www.dropbox.com/scl/fi/i0pws1rtkm4rse71rc6xr/environment_files.tgz?rlkey=n1w3l79z1qmnhc5qlyx0vanr0&st=fj80iq1z&dl=0'\n",
    "    !tar -xzvf {OUTPUT_ZIP_PATH}\n",
    "\n",
    "# machine cannot execute curl or tar commands, must download files manually\n",
    "if not os.path.isfile(OUTPUT_ZIP_PATH) and not os.path.isdir(\"environment_files\"):\n",
    "    raise Exception(f\"Could not download {OUTPUT_ZIP_PATH} automatically. Please download it manually from {ENVIRONMENT_FILES_URL}, place it in the same directory as this notebook, and re-run this cell.\")\n",
    "\n",
    "# file is downloaded but not extracted\n",
    "if os.path.isfile(OUTPUT_ZIP_PATH) and not os.path.isdir(\"environment_files\"):\n",
    "    !tar -xzvf {OUTPUT_ZIP_PATH}\n",
    "    print(f\"Extracted {OUTPUT_ZIP_PATH}\")\n",
    "elif os.path.isdir(\"environment_files\"):\n",
    "    print(f\"{OUTPUT_ZIP_PATH} already downloaded and extracted\")"
   ]
  },
  {
   "cell_type": "markdown",
   "metadata": {},
   "source": [
    "A function to read in a file that describes the environment for a game type, set of parameters, and a seed. This function assumes that an appropriately named file is available in the filesystem."
   ]
  },
  {
   "cell_type": "code",
   "execution_count": null,
   "metadata": {},
   "outputs": [],
   "source": [
    "def read_environment_file(game_type: str, game_params: str, seed: int) -> tuple[list, dict, dict, list, dict, dict]:\n",
    "    environment_file = f\"environment_files/{game_type}+{game_params}+seed={seed}.json\"\n",
    "    with open(environment_file, 'r') as f:\n",
    "        data = json.load(f)\n",
    "        graph = [tuple(x) for x in data['graph']]\n",
    "\n",
    "        world_state_hash = data['world states']\n",
    "        world_map = [tuple(x) for x in data['world map']]\n",
    "        world_observation_hash = data['world state observations']\n",
    "        world_map_observations = data['world map observations']\n",
    "        coordinates = data['coordinates']\n",
    "\n",
    "    return graph, world_state_hash, world_observation_hash, world_map, world_map_observations, coordinates"
   ]
  },
  {
   "cell_type": "markdown",
   "metadata": {
    "id": "LD9oN1pug2Or"
   },
   "source": [
    "Set the game type and game parameters, and load the environment information into global variables (described below). \n",
    "\n",
    "**Note:** We have provided samples for the `GAME_PARAMS` variables. While we do provide a function to test your search algorithms with each of these environments automatically, to closely and thoroughly test and verify the correctness of your implementations, we recommend loading the other provided environment data files and testing your code with then. "
   ]
  },
  {
   "cell_type": "code",
   "execution_count": 4,
   "metadata": {
    "executionInfo": {
     "elapsed": 10,
     "status": "ok",
     "timestamp": 1727280330947,
     "user": {
      "displayName": "Sanskriti Gupta",
      "userId": "14423739044698282671"
     },
     "user_tz": 240
    },
    "id": "d8m95oCXEHVi"
   },
   "outputs": [],
   "source": [
    "SEED = 3\n",
    "\n",
    "# change the game type and parameters here to test different environments in depth\n",
    "GAME_TYPE = \"coin\"\n",
    "GAME_PARAMS = \"numLocations=5,includeDoors=1,numDistractorItems=0\"\n",
    "# GAME_TYPE=\"mapreader\"\n",
    "# GAME_PARAMS=\"numLocations=5,maxDistanceApart=3,includeDoors=0,maxDistractorItemsPerLocation=0\"\n",
    "\n",
    "GRAPH, WORLD_STATE_HASH, WORLD_OBSERVATION_HASH, WORLD_MAP, WORLD_MAP_OBSERVATIONS, COORDINATES =  read_environment_file(GAME_TYPE, GAME_PARAMS, SEED)\n",
    "ENV = TextWorldExpressEnv(envStepLimit=100)\n",
    "ENV.load(gameName=GAME_TYPE, gameParams=GAME_PARAMS)"
   ]
  },
  {
   "cell_type": "markdown",
   "metadata": {
    "id": "RacIrTTCFmLJ"
   },
   "source": [
    "## Data Structures Information"
   ]
  },
  {
   "cell_type": "markdown",
   "metadata": {
    "id": "LP_Rc4H-C-u5"
   },
   "source": [
    "## Map Information\n",
    "\n",
    "```WORLD_MAP``` is a list of transitions of the form ```(loc1, 'move x', loc2)```\n",
    "For example\n",
    "```python\n",
    "[('kitchen', 'move west', 'pantry'),\n",
    " ('pantry', 'move east', 'kitchen'),\n",
    " ('kitchen', 'move south', 'backyard'),\n",
    " ('backyard', 'move north', 'kitchen'),\n",
    " ('backyard', 'move east', 'corridor'),\n",
    " ('corridor', 'move west', 'backyard'),\n",
    " ('corridor', 'move north', 'bedroom'),\n",
    " ('bedroom', 'move south', 'corridor')]\n",
    " ```\n",
    "\n",
    "```WORLD_MAP_OBSERVATIONS``` is a hash that maps location name to observation text. This is per location and the observation is the one that is seen the first time a location is encountered (it could be changed by the agent).\n",
    "\n",
    "For example:\n",
    "```python\n",
    " {'kitchen': 'You are in the kitchen. In one part of the room you see a stove. There is also an oven. You also see a fridge that is closed. In another part of the room you see a counter, that has nothing on it. In one part of the room you see a kitchen cupboard that is closed. There is also a cutlery drawer that is closed. You also see a trash can that is closed. In another part of the room you see a dishwasher that is closed. In one part of the room you see a dining chair, that has nothing on it. \\nTo the South you see a closed sliding patio door. To the West you see a closed frosted-glass door. \\nempty'}\n",
    " ```\n",
    "\n",
    " ```COORDINATES``` is a hash that maps location name to ```(x, y)``` coordinates.\n",
    "\n",
    " For example:\n",
    " ```python\n",
    " {'kitchen': (0, 0),\n",
    " 'pantry': (-1, 0),\n",
    " 'backyard': (0, -1),\n",
    " 'corridor': (1, -1),\n",
    " 'bedroom': (1, 0)}\n",
    " ```"
   ]
  },
  {
   "cell_type": "markdown",
   "metadata": {
    "id": "8oTEcm20izFK"
   },
   "source": [
    "## State Graph Information\n",
    "\n",
    "Each state has a unique id string (e.g., `'8289070664768900319'`).\n",
    "\n",
    "`GRAPH` is a list of tuples in the form of `(state_hash1, state_hash2, action)`. This gives all the possible state-to-state transitions.\n",
    "\n",
    "For example (these are arbitrary state hashes and actions):\n",
    "```python\n",
    "[\n",
    "    ('1234567890123456789', '1328501827302028361', 'close door to west'),\n",
    "    ('3879096835221616523', '9876543210123456789', 'move west'),\n",
    "    ('7392010263929462920', '8289070664768900319', 'open door to south'),\n",
    "    ('1810263629203640102', '5409443512146995218', 'open door to west'),\n",
    "    ('6436292619203629201', '7201026363929162639', 'move south'),\n",
    "    ('5362929162638201920', '4028372016293756292', 'close door to south')\n",
    "]\n",
    " ```\n",
    "\n",
    " `WORLD_STATE_HASH` maps a unique state id to a dictionary containing information about location, inventory, information about each room in the environment, and information about all the doors in the environment.\n",
    "\n",
    " Room information contains the objects in the room. If the object is a string (e.g., `'a box'`). If the object has an attribute, then the object is given as a two-element list with the first element being the name of the object and the second element being the attribute (e.g., `['a box', 'contains a coin']`).\n",
    "\n",
    " Doors can be `'open'` or `'closed'`.\n",
    "\n",
    " For example:\n",
    " ```python\n",
    " {\n",
    "  '3879096835221616523': {\n",
    "    'location': 'kitchen',\n",
    "    'inventory': 'empty',\n",
    "    'rooms': {\n",
    "      'backyard': {\n",
    "        'things': [\n",
    "          ['a garden',\n",
    "          'has nothing on it'],\n",
    "          'barbeque',\n",
    "          ['patio table',\n",
    "          'has nothing on it']\n",
    "        ]\n",
    "      },\n",
    "      'bedroom': {\n",
    "        'things': [\n",
    "          ['a desk chair',\n",
    "          'has nothing on it'],\n",
    "          ['wardrobe',\n",
    "          'is closed']\n",
    "        ]\n",
    "      },\n",
    "      'corridor': {\n",
    "        'things': [\n",
    "          'a coin',\n",
    "          ['umbrella stand',\n",
    "          'has nothing on it']\n",
    "        ]\n",
    "      }\n",
    "    },\n",
    "    'doors': {\n",
    "      'frosted-glass door': 'closed',\n",
    "      'screen door': 'closed',\n",
    "      'sliding patio door': 'closed',\n",
    "      'wood door': 'closed'\n",
    "    }\n",
    "  }\n",
    "}\n",
    "```\n",
    "\n",
    "You can get the number of unique states in the environment with `len(WORLD_STATE_HASH)`.\n",
    "\n",
    "`WORLD_OBSERVATION_HASH` maps unique state ids to observations.\n",
    "\n",
    "For example:\n",
    "```python\n",
    "{'3879096835221616523': 'You are in the kitchen. In one part of the room you see a stove. There is also an oven. You also see a fridge that is closed. In another part of the room you see a counter, that has nothing on it. In one part of the room you see a kitchen cupboard that is closed. There is also a cutlery drawer that is closed. You also see a trash can that is closed. In another part of the room you see a dishwasher that is closed. In one part of the room you see a dining chair, that has nothing on it. \\nTo the South you see a closed sliding patio door. To the West you see a closed frosted-glass door. \\nInventory (maximum capacity is 2 items): \\n  Your inventory is currently empty.\\n'}\n",
    "```"
   ]
  },
  {
   "cell_type": "markdown",
   "metadata": {
    "id": "DkJydtuTEhoK"
   },
   "source": [
    "# Helper Functions"
   ]
  },
  {
   "cell_type": "markdown",
   "metadata": {},
   "source": [
    "## General Helper Functions"
   ]
  },
  {
   "cell_type": "code",
   "execution_count": 5,
   "metadata": {
    "executionInfo": {
     "elapsed": 12,
     "status": "ok",
     "timestamp": 1727280331295,
     "user": {
      "displayName": "Sanskriti Gupta",
      "userId": "14423739044698282671"
     },
     "user_tz": 240
    },
    "id": "rnfFStcGEkWG"
   },
   "outputs": [],
   "source": [
    "def obs_with_inventory(obs: str, inv: str) -> str:\n",
    "    \"\"\"\n",
    "    Add the inventory to the world observation text.\n",
    "    \n",
    "    This function combines the observation text with the inventory\n",
    "    to provide a more complete text observation.\n",
    "    \n",
    "    Args:\n",
    "        obs (str): The observation text.\n",
    "        inv (str): The inventory text.\n",
    "    \n",
    "    Returns:\n",
    "        str: The combined observation and inventory text.\n",
    "    \"\"\"\n",
    "    return obs + '\\n' + inv\n",
    "\n",
    "def parse_inventory(obs: str) -> str:\n",
    "    \"\"\"\n",
    "    Pull the inventory items out of the observation text that includes\n",
    "    the inventory (from obs_with_inventory()).\n",
    "    \n",
    "    This function searches for the inventory in the observation\n",
    "    and returns the items if they are not empty.\n",
    "    \n",
    "    Args:\n",
    "        obs (str): The observation text containing inventory information.\n",
    "    \n",
    "    Returns:\n",
    "        str: The inventory items or 'empty' if there are no items.\n",
    "    \"\"\"\n",
    "    m = re.search(r'Inventory[a-zA-Z0-9 \\(\\)]*:\\s*([a-zA-Z0-9 \\.\\n]+)', obs)\n",
    "    if m is not None:\n",
    "        if 'empty' not in m.group(1):\n",
    "            return m.group(1).replace('\\n', '')\n",
    "    return 'empty'\n",
    "\n",
    "def obs_location(obs: str) -> str:\n",
    "    \"\"\"\n",
    "    Pull the location out of the observation text.\n",
    "    \n",
    "    This function extracts the location from the first sentence\n",
    "    of the observation text.\n",
    "    \n",
    "    Args:\n",
    "        obs (str): The observation text.\n",
    "    \n",
    "    Returns:\n",
    "        str: The location extracted from the observation.\n",
    "    \"\"\"\n",
    "    first_sentence = obs.split('.')[0].split(' ')\n",
    "    start = first_sentence.index('the') + 1\n",
    "    return ' '.join(first_sentence[start:])\n",
    "\n",
    "def hash_state(state: dict) -> str:\n",
    "    \"\"\"\n",
    "    Produces an identifier for a state dictionary.\n",
    "    \n",
    "    This function generates a hash for the given state dictionary,\n",
    "    which is not guaranteed to be unique but should suffice for\n",
    "    identifying the state.\n",
    "    \n",
    "    Args:\n",
    "        state (dict): The state dictionary to hash.\n",
    "    \n",
    "    Returns:\n",
    "        str: The string representation of the hash.\n",
    "    \"\"\"\n",
    "    return str(abs(hash(json.dumps(state))))\n",
    "\n",
    "def parse_things(obs: str) -> list[Union[str, list[str]]]:\n",
    "    \"\"\"\n",
    "    Parse the objects out of an observation.\n",
    "    \n",
    "    This function extracts various objects mentioned in the observation\n",
    "    text and returns them as a list.\n",
    "    \n",
    "    Args:\n",
    "        obs (str): The observation text.\n",
    "    \n",
    "    Returns:\n",
    "        list[Union[str, list[str]]]: A list of objects found in the observation.\n",
    "    \"\"\"\n",
    "    things1 = re.findall(r'[yY]ou \\w*\\s*see [aA]? ([a-zA-Z0-9\\- ]+)\\,? that ([a-zA-Z0-9\\-, ]+).', obs)\n",
    "    things2 = re.findall(r'[tT]here is \\w*\\s*([a-zA-Z0-9\\- ]+)\\,? that ([a-zA-Z0-9\\-, ]+).', obs)\n",
    "    things3 = re.findall(r'[tT]here is \\w*\\s*([a-zA-Z0-9\\- ]+)\\.', obs)\n",
    "    things3 = list(filter(lambda s: 'that' not in s, things3))\n",
    "    things4 = re.findall(r'[yY]ou \\w*\\s*see a ([a-zA-Z0-9\\- ]+)\\.', obs)\n",
    "    things4 = list(filter(lambda s: 'door' not in s and 'that' not in s, things4))\n",
    "    return list(map(lambda x: list(x) if type(x) is tuple else x,\n",
    "                    things1 + things2 + things3 + things4))\n",
    "\n",
    "def parse_doors(obs: str, location: str) -> list[tuple[str, str]]:\n",
    "    \"\"\"\n",
    "    Parse doors out of an observation.\n",
    "    \n",
    "    This function identifies open and closed doors mentioned in the\n",
    "    observation text and returns them along with their status.\n",
    "    \n",
    "    Args:\n",
    "        obs (str): The observation text.\n",
    "        location (str): The current location of the observer.\n",
    "    \n",
    "    Returns:\n",
    "        list[tuple[str, str]]: A list of tuples containing door descriptions and their statuses.\n",
    "    \"\"\"\n",
    "    sentences = obs.split('.')\n",
    "    doors = []\n",
    "    dirs = re.compile('west|east|south|north')\n",
    "    for sentence in sentences:\n",
    "        m_open = re.search(r'open ([a-z\\- ]*door)', sentence)\n",
    "        m_closed = re.search(r'closed ([a-z\\- ]*door)', sentence)\n",
    "        dir = dirs.search(sentence.lower())\n",
    "        if dir is not None:\n",
    "            if m_open is not None:\n",
    "                doors.append((m_open[1] + ' (' + location + ') ' + dir[0], 'open'))\n",
    "            elif m_closed is not None:\n",
    "                doors.append((m_closed[1] + ' (' + location + ') ' + dir[0], 'closed'))\n",
    "    return doors\n",
    "\n",
    "def parse_room(obs: str) -> dict[str, list[Union[str, list[str]]]]:\n",
    "    \"\"\"\n",
    "    Parse room information from an observation.\n",
    "    \n",
    "    This function extracts and sorts the objects found in the room\n",
    "    from the observation text.\n",
    "    \n",
    "    Args:\n",
    "        obs (str): The observation text for the room.\n",
    "    \n",
    "    Returns:\n",
    "        dict[str, list[Union[str, list[str]]]]: A dictionary containing the things in the room.\n",
    "    \"\"\"\n",
    "    things = sorted(parse_things(obs), key=lambda x: x[0] if type(x) is list else x)\n",
    "    return {'things': things}\n",
    "\n",
    "def make_world_state(observation: str, inventory: str, world_map_hash_table: dict[str, str]) -> dict:\n",
    "    \"\"\"\n",
    "    Make a world state dictionary from an observation, inventory, and world map hash.\n",
    "    \n",
    "    This function constructs a comprehensive state dictionary that includes\n",
    "    the current location, inventory, rooms, and doors based on the provided\n",
    "    observation and world map.\n",
    "    \n",
    "    Args:\n",
    "        observation (str): The observation text.\n",
    "        inventory (str): The current inventory.\n",
    "        world_map_hash_table (dict[str, str]): A mapping of room names to their observations.\n",
    "    \n",
    "    Returns:\n",
    "        dict: The constructed world state dictionary.\n",
    "    \"\"\"\n",
    "    rooms = list(world_map_hash_table.keys())\n",
    "    world_state = {'location': obs_location(observation),\n",
    "                   'inventory': inventory,\n",
    "                   'rooms': {},\n",
    "                   'doors': {}}\n",
    "    all_doors = []\n",
    "    rooms_hash = {}\n",
    "    for room in sorted(rooms):\n",
    "        room_obs = world_map_hash_table[room]\n",
    "        rooms_hash[room] = parse_room(room_obs)\n",
    "        all_doors = list(set(all_doors + parse_doors(room_obs, room)))\n",
    "    world_state['rooms'] = rooms_hash\n",
    "    for door, status in sorted(all_doors, key=lambda x: x[0]):\n",
    "        world_state['doors'][door] = status\n",
    "    return world_state"
   ]
  },
  {
   "cell_type": "markdown",
   "metadata": {
    "id": "4MOKXe0N8UcO"
   },
   "source": [
    "## Functions for Parsing the Environment"
   ]
  },
  {
   "cell_type": "markdown",
   "metadata": {
    "id": "u6DW9kwn7lEK"
   },
   "source": [
    "`world_state_to_string()` is a function for printing a world state dictionary in a reader-friendly (pretty) fashion. It takes a world state dictionary object (described below). There is an optional input, `ignore_keys` to tell the function to not print certain keys in any part of the world state dictionary."
   ]
  },
  {
   "cell_type": "code",
   "execution_count": 6,
   "metadata": {
    "executionInfo": {
     "elapsed": 10,
     "status": "ok",
     "timestamp": 1727280331295,
     "user": {
      "displayName": "Sanskriti Gupta",
      "userId": "14423739044698282671"
     },
     "user_tz": 240
    },
    "id": "KxorXnQL7jll"
   },
   "outputs": [],
   "source": [
    "def list_to_pretty_string(lst: list, indent: int = 0) -> str:\n",
    "    \"\"\"\n",
    "    Convert a list into a nicely formatted string.\n",
    "\n",
    "    Args:\n",
    "        lst (list): The list of items to format.\n",
    "        indent (int): The number of spaces to indent each line.\n",
    "\n",
    "    Returns:\n",
    "        str: A string representation of the list, with each item on a new line.\n",
    "    \"\"\"\n",
    "    out = ''\n",
    "    indent_str = ' ' * indent\n",
    "    for item in lst:\n",
    "        out += indent_str + '- ' + str(item) + '\\n'\n",
    "    return out\n",
    "\n",
    "def dict_to_pretty_string(d: dict, indent: int = 0, ignore_keys: list = []) -> str:\n",
    "    \"\"\"\n",
    "    Convert a dictionary into a nicely formatted string.\n",
    "\n",
    "    Args:\n",
    "        d (dict): The dictionary to format.\n",
    "        indent (int): The number of spaces to indent each line.\n",
    "        ignore_keys (list): A list of keys to bypass so they are not printed.\n",
    "\n",
    "    Returns:\n",
    "        str: A string representation of the dictionary, with nested structures formatted appropriately.\n",
    "    \"\"\"\n",
    "    out = ''\n",
    "    indent_str = ' ' * indent\n",
    "    for n, key in enumerate(d):\n",
    "        if key not in ignore_keys:\n",
    "            value = d[key]\n",
    "            out += indent_str + key + ': '\n",
    "            if isinstance(value, dict):\n",
    "                out += '\\n' + dict_to_pretty_string(value, indent=indent + 1, ignore_keys=ignore_keys)\n",
    "            elif isinstance(value, list):\n",
    "                out += '\\n' + list_to_pretty_string(value, indent=indent + 1)\n",
    "            else:\n",
    "                end = '\\n' if n < len(d) - 1 else ''\n",
    "                out += str(value) + end\n",
    "    return out\n",
    "\n",
    "def world_state_to_string(world_state: dict, ignore_keys: list = []) -> str:\n",
    "    \"\"\"\n",
    "    Convert a world state dictionary into a nicely formatted string.\n",
    "\n",
    "    Args:\n",
    "        world_state (dict): The world state dictionary to format.\n",
    "        ignore_keys (list): A list of keys to bypass so they are not printed.\n",
    "\n",
    "    Returns:\n",
    "        str: A string representation of the world state dictionary.\n",
    "    \"\"\"\n",
    "    out = dict_to_pretty_string(world_state, ignore_keys=ignore_keys)\n",
    "    return out"
   ]
  },
  {
   "cell_type": "markdown",
   "metadata": {
    "id": "YX-FFPAlgGFU"
   },
   "source": [
    "Code for rendering a map of the environment."
   ]
  },
  {
   "cell_type": "code",
   "execution_count": 7,
   "metadata": {
    "executionInfo": {
     "elapsed": 9,
     "status": "ok",
     "timestamp": 1727280331295,
     "user": {
      "displayName": "Sanskriti Gupta",
      "userId": "14423739044698282671"
     },
     "user_tz": 240
    },
    "id": "AA8gD2UdEfHd"
   },
   "outputs": [],
   "source": [
    "def render_map(world_map: list[tuple], world_map_observations: dict, coordinates: dict) -> Image:\n",
    "    \"\"\"\n",
    "    Render a map of the environment using Graphviz.\n",
    "\n",
    "    This function creates a directed graph representing the world map, where nodes correspond to locations\n",
    "    and edges represent connections between those locations. The graph is constructed based on the provided\n",
    "    world map and observations, and it is displayed directly in the notebook.\n",
    "\n",
    "    Args:\n",
    "        world_map (list): A list of arcs representing the connections in the world map.\n",
    "        world_map_observations (dict): A dictionary mapping locations to their observations.\n",
    "        coordinates (dict): A dictionary mapping locations to their coordinates.\n",
    "\n",
    "    Returns:\n",
    "        Image: An image object representing the rendered map.\n",
    "    \"\"\"\n",
    "    dot = graphviz.Digraph()\n",
    "    names = []  # These are the locations we have added to the graph\n",
    "    for arc in world_map:\n",
    "        if arc[0] not in names:\n",
    "            dot.node(name=str(arc[0]), label=obs_location(world_map_observations[arc[0]]) + ' ' + str(coordinates[arc[0]]))\n",
    "            names.append(arc[0])\n",
    "        if arc[2] not in names:\n",
    "            dot.node(name=str(arc[2]), label=obs_location(world_map_observations[arc[2]]) + ' ' + str(coordinates[arc[2]]))\n",
    "            names.append(arc[2])\n",
    "        dot.edge(str(arc[0]), str(arc[2]), label=arc[1].split(' ')[1])\n",
    "    \n",
    "    # Renders the graph in the notebook\n",
    "    return Image(dot.pipe(format='png'))"
   ]
  },
  {
   "cell_type": "markdown",
   "metadata": {
    "id": "HwZEc4trgKYY"
   },
   "source": [
    "Code to render the state space."
   ]
  },
  {
   "cell_type": "code",
   "execution_count": 8,
   "metadata": {
    "executionInfo": {
     "elapsed": 8,
     "status": "ok",
     "timestamp": 1727280331295,
     "user": {
      "displayName": "Sanskriti Gupta",
      "userId": "14423739044698282671"
     },
     "user_tz": 240
    },
    "id": "ZHWoR-VFF35G"
   },
   "outputs": [],
   "source": [
    "def render_state_space(graph: list[tuple[str, str, str]], world_state_hash: dict, ignore_keys: list = [], filename: str = 'space') -> Image:\n",
    "    \"\"\"\n",
    "    Render the state space as a directed graph using Graphviz.\n",
    "\n",
    "    This function creates a directed graph representing the state space, where nodes correspond to states\n",
    "    and edges represent actions leading from one state to another. The graph is constructed based on the \n",
    "    provided graph structure and world state hash, and it is displayed directly in the notebook.\n",
    "\n",
    "    Args:\n",
    "        graph (list[tuple]): A list of arcs representing the connections in the state space, where each arc is a tuple (parent, child, action).\n",
    "        world_state_hash (dict): A dictionary mapping states to their representations.\n",
    "        ignore_keys (list): A list of keys to ignore when converting states to strings.\n",
    "        filename (str): The base filename for the rendered graph (not used for direct rendering).\n",
    "\n",
    "    Returns:\n",
    "        Image: An image object representing the rendered state space.\n",
    "    \"\"\"\n",
    "    # Create graphviz root container\n",
    "    dot = graphviz.Digraph()\n",
    "    nodes = []\n",
    "    edges = []\n",
    "    for arc in graph:\n",
    "        parent, child, act = arc\n",
    "        parent_name = parent\n",
    "        child_name = child\n",
    "        if child not in nodes:\n",
    "            dot.node(name=child_name, label=world_state_to_string(world_state_hash[child], ignore_keys=ignore_keys))\n",
    "            nodes.append(child)\n",
    "        if parent not in nodes:\n",
    "            dot.node(name=parent_name, label=world_state_to_string(world_state_hash[parent], ignore_keys=ignore_keys))\n",
    "            nodes.append(parent)\n",
    "        if (parent, child, act) not in edges:\n",
    "            dot.edge(parent_name, child_name, label=act)\n",
    "            edges.append((parent, child, act))\n",
    "    \n",
    "    dot.render(filename + '.gv', view=False)\n",
    "    (graph,) = pydot.graph_from_dot_file(filename + '.gv')\n",
    "    graph.write_png(filename + '.png')\n",
    "    # Renders directly in the notebook\n",
    "    return Image(dot.pipe(format='png'))"
   ]
  },
  {
   "cell_type": "markdown",
   "metadata": {
    "id": "sGA_Rxt7EQOR"
   },
   "source": [
    "## Render the Map and State Space"
   ]
  },
  {
   "cell_type": "code",
   "execution_count": null,
   "metadata": {
    "colab": {
     "base_uri": "https://localhost:8080/",
     "height": 540
    },
    "executionInfo": {
     "elapsed": 1142,
     "status": "ok",
     "timestamp": 1727280332430,
     "user": {
      "displayName": "Sanskriti Gupta",
      "userId": "14423739044698282671"
     },
     "user_tz": 240
    },
    "id": "__S1MG5SEBQP",
    "outputId": "beb14578-277a-4d3c-cabc-1441b451b38a"
   },
   "outputs": [],
   "source": [
    "render_map(WORLD_MAP, WORLD_MAP_OBSERVATIONS, COORDINATES)"
   ]
  },
  {
   "cell_type": "markdown",
   "metadata": {
    "id": "FVNKJy8ajdir"
   },
   "source": [
    "This state space is rendered in the cell below - as this can sometimes take a long time to render, we've added a boolean flag that you can set to `False` to disable rendering the state space graph. The state space is also generally gigantic, so we also export it to a file for you to view. This is just for your viewing pleasure, and you do not need to view this rendering to complete the assignment."
   ]
  },
  {
   "cell_type": "code",
   "execution_count": 10,
   "metadata": {
    "executionInfo": {
     "elapsed": 59,
     "status": "ok",
     "timestamp": 1727280332431,
     "user": {
      "displayName": "Sanskriti Gupta",
      "userId": "14423739044698282671"
     },
     "user_tz": 240
    },
    "id": "IxkrWAjnFvxL"
   },
   "outputs": [],
   "source": [
    "render = False\n",
    "if render:\n",
    "    render_state_space(GRAPH, WORLD_STATE_HASH)"
   ]
  },
  {
   "cell_type": "markdown",
   "metadata": {
    "id": "9idDEzGTV-PQ"
   },
   "source": [
    "## State Space Search Helper Functions"
   ]
  },
  {
   "cell_type": "markdown",
   "metadata": {
    "id": "kD5zzIrcMP8N"
   },
   "source": [
    "You may find these functions useful when implementing your search algorithms in the TextWorld environment, but they are not necessary to use. \n",
    "\n",
    "`make_world_state()` takes a text observation and inventory information and constructs a state dictionary. `update_world_state()` takes a state dictionary and new observation text and new inventory text and returns an updated state dictionary."
   ]
  },
  {
   "cell_type": "code",
   "execution_count": 11,
   "metadata": {
    "executionInfo": {
     "elapsed": 54,
     "status": "ok",
     "timestamp": 1727280332431,
     "user": {
      "displayName": "Sanskriti Gupta",
      "userId": "14423739044698282671"
     },
     "user_tz": 240
    },
    "id": "LzMLcbJwMJhx"
   },
   "outputs": [],
   "source": [
    "def update_world_state(old_world_state: dict, new_observation: str, new_inventory: list) -> dict:\n",
    "    \"\"\"\n",
    "    Update an existing state dictionary with new observation and inventory data.\n",
    "\n",
    "    This function assumes that nothing changes other than with the new observation\n",
    "    and inventory. It retrieves the new location from the observation, makes a deep\n",
    "    copy of the old state dictionary, updates the location and inventory, parses the\n",
    "    current room, and updates the door information based on the new observation.\n",
    "\n",
    "    Args:\n",
    "        old_world_state (dict): The existing state dictionary to be updated.\n",
    "        new_observation (str): The new observation text from the environment.\n",
    "        new_inventory (list): The new inventory list from the environment.\n",
    "\n",
    "    Returns:\n",
    "        dict: The updated state dictionary reflecting the new observation and inventory.\n",
    "    \"\"\"\n",
    "    new_location = obs_location(new_observation)\n",
    "    new_world_state = copy.deepcopy(old_world_state)\n",
    "    new_world_state['location'] = new_location\n",
    "    new_world_state['inventory'] = new_inventory\n",
    "    new_world_state['rooms'][new_location] = parse_room(new_observation)\n",
    "    doors = parse_doors(new_observation, new_location)\n",
    "    for door, status in doors:\n",
    "        new_world_state['doors'][door] = status\n",
    "    return new_world_state"
   ]
  },
  {
   "cell_type": "markdown",
   "metadata": {
    "id": "UUw9LxFmMj4x"
   },
   "source": [
    "The following are custom functions for resetting the environment and executing actions during state space search. **Use these instead of `ENV.step()` and `ENV.reset()`.**\n",
    "\n",
    "`do_action_state_search()` is a wrapper for `ENV.step()` that processes the output into a state dictionary. Pass in the string indicating the action (e.g., `'move north'`), and a reference to the environment object. This function returns a dictionary containing: state id, state observation, agent inventory, and list of valid actions.\n",
    "\n",
    "`reset_state_search()` is a wrapper for `ENV.reset()` that processes the output into a state dictionary. Pass in the environment object. This function returns\n",
    "a dictionary containing: state id, state observation, inventory, list of valid actions, and a state dictionary."
   ]
  },
  {
   "cell_type": "code",
   "execution_count": 12,
   "metadata": {
    "executionInfo": {
     "elapsed": 53,
     "status": "ok",
     "timestamp": 1727280332432,
     "user": {
      "displayName": "Sanskriti Gupta",
      "userId": "14423739044698282671"
     },
     "user_tz": 240
    },
    "id": "JcsmIZwmMFIw"
   },
   "outputs": [],
   "source": [
    "def do_action_state_search(action: str, env: TextWorldExpressEnv) -> dict:\n",
    "    \"\"\"\n",
    "    Execute the action for state space search.\n",
    "\n",
    "    This function returns the id of the new state, an observation, inventory,\n",
    "    and list of valid actions.\n",
    "\n",
    "    Args:\n",
    "        action (str): The action to be executed in the environment.\n",
    "        env (TextWorldExpressEnv): The environment instance from TextWorld.\n",
    "\n",
    "    Returns:\n",
    "        dict: A dictionary containing the new state id, observation, inventory,\n",
    "              and valid actions.\n",
    "    \"\"\"\n",
    "    _, _, _, infos = env.step(action)\n",
    "    inv = infos['inventory']\n",
    "    modified_obs = obs_with_inventory(infos['look'], inv)\n",
    "    valid_actions = infos['validActions']\n",
    "    valid_actions.remove('inventory')\n",
    "    valid_actions.remove('look around')\n",
    "    return {'id': hash_state(modified_obs),\n",
    "            'observation': modified_obs,\n",
    "            'inventory': parse_inventory(inv),\n",
    "            'valid actions': valid_actions}\n",
    "\n",
    "def state_dict_to_id(state: dict) -> str:\n",
    "    \"\"\"\n",
    "    Convert a state dictionary to an id.\n",
    "\n",
    "    Args:\n",
    "        state (dict): The state dictionary to convert.\n",
    "\n",
    "    Returns:\n",
    "        str: The id corresponding to the state dictionary.\n",
    "    \"\"\"\n",
    "    return list(WORLD_STATE_HASH.keys())[list(WORLD_STATE_HASH.values()).index(state)]\n",
    "\n",
    "def reset_state_search(env: TextWorldExpressEnv, world_map_observations: list) -> dict:\n",
    "    \"\"\"\n",
    "    Reset the environment for state space.\n",
    "\n",
    "    This function returns initial state information as a dictionary containing,\n",
    "    state id, observation, inventory, valid actions, and state dictionary.\n",
    "\n",
    "    Args:\n",
    "        env (TextWorldExpressEnv): The environment instance from TextWorld.\n",
    "        world_map_observations (list): Observations of the world map.\n",
    "\n",
    "    Returns:\n",
    "        dict: A dictionary containing the initial state id, observation,\n",
    "              inventory, valid actions, and state dictionary.\n",
    "    \"\"\"\n",
    "    # Reset environment\n",
    "    _, infos = env.reset(seed=SEED, gameFold=\"train\", generateGoldPath=True)\n",
    "    inv = infos['inventory']\n",
    "    modified_obs = obs_with_inventory(infos['look'], inv)\n",
    "    valid_actions = infos['validActions']\n",
    "    valid_actions.remove('inventory')\n",
    "    valid_actions.remove('look around')\n",
    "    init_world_state = make_world_state(modified_obs,\n",
    "                                        parse_inventory(inv),\n",
    "                                        world_map_observations)\n",
    "    id = state_dict_to_id(init_world_state)\n",
    "    return {'id': id,\n",
    "            'observation': modified_obs,\n",
    "            'inventory': parse_inventory(inv),\n",
    "            'valid actions': valid_actions,\n",
    "            'state': init_world_state}"
   ]
  },
  {
   "cell_type": "markdown",
   "metadata": {
    "id": "I8XP4yJiZLL-"
   },
   "source": [
    "# Goal State Functions"
   ]
  },
  {
   "cell_type": "markdown",
   "metadata": {
    "id": "Tr_ZcPtjH0qj"
   },
   "source": [
    "**TODO:** Implement the `is_goal()` function for the Coin Game and Map Reader games. The `is_goal()` functions take in a state, as a hash ID (a string). These methods are only going to be used in your own solution code below, and we will not be checking this function for correctness (though if it is incorrect it will cause your solutions to fail!).\n",
    "\n",
    "For the goal state functions, you are allowed to access the following global variables: `GRAPH, WORLD_STATE_HASH, WORLD_OBSERVATION_HASH, WORLD_MAP, WORLD_MAP_OBSERVATIONS, COORDINATES`.\n",
    "\n",
    "If you're unsure how to implement the `is_goal()` functions, you should look at the data structures and information provided above to understand how to access the relevant information you need, and you should play around with the environment to understand what the goal states look like!"
   ]
  },
  {
   "cell_type": "code",
   "execution_count": 13,
   "metadata": {
    "executionInfo": {
     "elapsed": 52,
     "status": "ok",
     "timestamp": 1727280332432,
     "user": {
      "displayName": "Sanskriti Gupta",
      "userId": "14423739044698282671"
     },
     "user_tz": 240
    },
    "id": "yPv380CLH9xZ"
   },
   "outputs": [],
   "source": [
    "# export - DO NOT MODIFY OR MOVE THIS LINE\n",
    "\n",
    "def is_goal_coin(state: str) -> bool:\n",
    "    is_goal = False\n",
    "    ### YOUR CODE BELOW HERE ###\n",
    "\n",
    "    raise NotImplementedError # remove this line when you implement the function!\n",
    "\n",
    "    ### YOUR CODE ABOVE HERE ###\n",
    "    return is_goal"
   ]
  },
  {
   "cell_type": "code",
   "execution_count": 14,
   "metadata": {
    "executionInfo": {
     "elapsed": 50,
     "status": "ok",
     "timestamp": 1727280332433,
     "user": {
      "displayName": "Sanskriti Gupta",
      "userId": "14423739044698282671"
     },
     "user_tz": 240
    },
    "id": "3tlhrFh6H_R_"
   },
   "outputs": [],
   "source": [
    "# export - DO NOT MODIFY OR MOVE THIS LINE\n",
    "\n",
    "def is_goal_mapreader(state: str) -> bool:\n",
    "    is_goal = False\n",
    "    ### YOUR CODE BELOW HERE ###\n",
    "\n",
    "    raise NotImplementedError # remove this line when you implement the function!\n",
    "\n",
    "    ### YOUR CODE ABOVE HERE ###\n",
    "    return is_goal"
   ]
  },
  {
   "cell_type": "markdown",
   "metadata": {
    "id": "yYUz6tStZQ64"
   },
   "source": [
    "# Successor Function"
   ]
  },
  {
   "cell_type": "markdown",
   "metadata": {
    "id": "Hfcklog6KCu9"
   },
   "source": [
    "**TODO:** Implement `get_successors()`. The function takes a state, as a hash ID (a string), and returns its successors and the action needed to reach the successor. You may store this information however you'd like, but the function should return a list. We will not directly test this function, but it will be used in your search algorithms below, so it must be implemented correctly!\n",
    "\n",
    "For this function, you are allowed to access the following global variables: `GRAPH, WORLD_STATE_HASH, WORLD_OBSERVATION_HASH, WORLD_MAP, WORLD_MAP_OBSERVATIONS, COORDINATES`."
   ]
  },
  {
   "cell_type": "code",
   "execution_count": 15,
   "metadata": {
    "executionInfo": {
     "elapsed": 49,
     "status": "ok",
     "timestamp": 1727280332433,
     "user": {
      "displayName": "Sanskriti Gupta",
      "userId": "14423739044698282671"
     },
     "user_tz": 240
    },
    "id": "HBS9iZtPKccQ"
   },
   "outputs": [],
   "source": [
    "# export - DO NOT MODIFY OR MOVE THIS LINE\n",
    "\n",
    "def get_successors(state: str) -> list:\n",
    "    successors = []\n",
    "    ### YOUR CODE BELOW HERE ###\n",
    "\n",
    "    raise NotImplementedError # remove this line when you implement the function!\n",
    "\n",
    "    ### YOUR CODE ABOVE HERE ###\n",
    "    return successors"
   ]
  },
  {
   "cell_type": "markdown",
   "metadata": {
    "id": "q88Q1uEbHlrd"
   },
   "source": [
    "# Breadth-First Search (BFS)"
   ]
  },
  {
   "cell_type": "markdown",
   "metadata": {
    "id": "9Zi0QiT3Oucs"
   },
   "source": [
    "**TODO:** Implement BFS. The function takes the following parameters:\n",
    "\n",
    "- `init_state_info`: the structure given by `reset_state_search()` containing state id, state dictionary, initial observation, initial inventory, and valid actions. This is provided by `reset_state_search()`, for example:\n",
    "    ```python\n",
    "    {'id': '1234567890',\n",
    "    'observation': 'You are by the lecture hall. You\\'re listening to the professor lecture (he\\'s droning on and on and on). You\\'d rather be implementing BFS right about now. You\\'re close to figuring out the correct implementation, but you\\'re not quite there yet. Maybe you are there. Who knows? Hopefully you!',\n",
    "    'inventory': 'a coin',\n",
    "    'valid actions': ['move north', 'move south'],\n",
    "    'state': {'location': 'kitchen',\n",
    "            'inventory': 'a coin',\n",
    "            'rooms': {'living room': {'things': ['a box']},\n",
    "                        'kitchen': {'things': []}}\n",
    "            }\n",
    "    }\n",
    "    ```\n",
    "- `graph`: a list of state transitions (i.e., `GRAPH`)\n",
    "- `world_state_hash`: a dictionary that maps world state ids to state dictionaries (i.e., `WORLD_STATE_HASH`)\n",
    "- `is_goal`: a function that takes a state and returns True or False whether that state is a goal state (i.e., `is_goal_coin_game` or `is_goal_map_reader`).\n",
    "\n",
    "The function returns the following:\n",
    "- `the_plan`: a list of actions, e.g. `[action_string_1, action_string_2, ..., action_string_n]`\n",
    "- `visited_states`: A list of all states visited during the search, e.g., `[state_1, state_2, ..., state_m]`. The states should be represented as state IDs (strings). Note that the length of `visited_states` might not necessarily be the same length as `the_plan`. \n",
    "\n",
    "**Important Notes:**\n",
    "- You should **only** use the parameters provided to the function to implement your solution. You are welcome to use the helper functions provided above to help you implement your solution. Your solution should be efficient in terms of time and space - you should not be storing excess information in your search, nor should you be visiting the same state multiple times.\n",
    "- For your implementation, you should **not** terminate if you find the goal state in the successor function when expanding the search. You should only terminate when you visit the goal state in the search algorithm. While many search algorithms can terminate upon finding a goal state when expanding successors, we are requiring that you expand all nodes in the search to ensure that all solutions return the same path when expanding successors. As such, you should only terminate when you visit the goal state in the search algorithm. "
   ]
  },
  {
   "cell_type": "code",
   "execution_count": 16,
   "metadata": {
    "executionInfo": {
     "elapsed": 49,
     "status": "ok",
     "timestamp": 1727280332434,
     "user": {
      "displayName": "Sanskriti Gupta",
      "userId": "14423739044698282671"
     },
     "user_tz": 240
    },
    "id": "qMySxLoRPMG_"
   },
   "outputs": [],
   "source": [
    "# export - DO NOT MODIFY OR MOVE THIS LINE\n",
    "\n",
    "def bfs(init_state_info: dict, graph: list[tuple[str, str, str]], world_state_hash: dict, is_goal: callable) -> tuple[list[str], list[str]]:\n",
    "    the_plan = []\n",
    "    visited_states = []\n",
    "    ### YOUR CODE BELOW HERE ###\n",
    "\n",
    "    raise NotImplementedError # remove this line when you implement the function!\n",
    "\n",
    "    ### YOUR CODE ABOVE HERE ###\n",
    "    return the_plan, visited_states"
   ]
  },
  {
   "cell_type": "markdown",
   "metadata": {
    "id": "dBmSiXy6PfHq"
   },
   "source": [
    "Test BFS using the game environment loaded in earlier in the notebook"
   ]
  },
  {
   "cell_type": "code",
   "execution_count": null,
   "metadata": {
    "colab": {
     "base_uri": "https://localhost:8080/"
    },
    "executionInfo": {
     "elapsed": 42,
     "status": "ok",
     "timestamp": 1727280332434,
     "user": {
      "displayName": "Sanskriti Gupta",
      "userId": "14423739044698282671"
     },
     "user_tz": 240
    },
    "id": "Rkc9NTkJPgiz",
    "outputId": "abf79669-ee6a-4a35-f330-2f18d54d0887"
   },
   "outputs": [],
   "source": [
    "init_state_info = reset_state_search(ENV, WORLD_MAP_OBSERVATIONS)\n",
    "plan, visited = bfs(init_state_info, GRAPH, WORLD_STATE_HASH, is_goal = is_goal_coin if GAME_TYPE==\"coin\" else is_goal_mapreader)\n",
    "print('The plan:', plan)\n",
    "print('Number of visited states:', len(visited))"
   ]
  },
  {
   "cell_type": "markdown",
   "metadata": {
    "id": "O3KtehrwXVOP"
   },
   "source": [
    "# Depth-First Search (DFS)"
   ]
  },
  {
   "cell_type": "markdown",
   "metadata": {
    "id": "MWgp_riYYf3j"
   },
   "source": [
    "**TODO:** Implement DFS. The function takes the following parameters:\n",
    "\n",
    "- `init_state_info`: the data structure given by `reset_state_search()` containing state id, state dictionary, initial observation, initial inventory, and valid actions.\n",
    "- `graph`: a list of state transitions (i.e., `GRAPH`)\n",
    "- `world_state_hash`: a dictionary that maps world state ids to state dictionaries (i.e., `WORLD_STATE_HASH`)\n",
    "- `is_goal`: a function that takes a state and returns True or False whether that state is a goal state (i.e., `is_goal_coin_game` or `is_goal_map_reader`).\n",
    "\n",
    "The function returns the following:\n",
    "- `the_plan`: a list of actions, e.g. `[action_string_1, action_string_2, ..., action_string_n]`\n",
    "- `visited_states`: A list of all states visited during the search, e.g., `[state_1, state_2, ..., state_m]`. The states should be represented as state IDs (strings). Note that the length of `visited_states` might not necessarily be the same length as `the_plan`. \n",
    "\n",
    "**Important Notes:** \n",
    "- You should **only** use the parameters provided to the function to implement your solution. You are welcome to use the helper functions provided above to help you implement your solution. Your solution should be efficient in terms of time and space - you should not be storing excess information in your search, nor should you be visiting the same state multiple times.\n",
    "- For your implementation, you should **not** terminate if you find the goal state in the successor function when expanding the search. You should only terminate when you visit the goal state in the search algorithm. While many search algorithms can terminate upon finding a goal state when expanding successors, we are requiring that you expand all nodes in the search to ensure that all solutions return the same path when expanding successors. As such, you should only terminate when you visit the goal state in the search algorithm. \n",
    "- When implementing DFS, please visit neighbors in the ***reverse*** order of the neighbors as they are presented in `GRAPH`. For example, if the neighbors of a vertex in `GRAPH` were `['A', 'B', 'C']`, please visit them as `C` -> `B` -> `A`. If you are using a ***stack*** in your implementation (i.e., you are implementing DFS iteratively), adding the neighbors in the given order to the stack will naturally have you visit them in reverse order, so you do not need to reverse the order manually (_this is a good exercise to think about_). "
   ]
  },
  {
   "cell_type": "code",
   "execution_count": 18,
   "metadata": {
    "executionInfo": {
     "elapsed": 40,
     "status": "ok",
     "timestamp": 1727280332434,
     "user": {
      "displayName": "Sanskriti Gupta",
      "userId": "14423739044698282671"
     },
     "user_tz": 240
    },
    "id": "Hj9olqJHVnfn"
   },
   "outputs": [],
   "source": [
    "# export - DO NOT MODIFY OR MOVE THIS LINE\n",
    "\n",
    "def dfs(init_state_info: dict, graph: list[tuple[str, str, str]], world_state_hash: dict, is_goal: callable) -> tuple[list[str], list[str]]:\n",
    "    the_plan = []\n",
    "    visited_states = []\n",
    "    ### YOUR CODE BELOW HERE ###\n",
    "\n",
    "    raise NotImplementedError # remove this line when you implement the function!\n",
    "\n",
    "    ### YOUR CODE ABOVE HERE ###\n",
    "    return the_plan, visited_states"
   ]
  },
  {
   "cell_type": "markdown",
   "metadata": {
    "id": "q0Gfh7cjYpVA"
   },
   "source": [
    "Test DFS using the game environment loaded in earlier in the notebook:"
   ]
  },
  {
   "cell_type": "code",
   "execution_count": null,
   "metadata": {
    "colab": {
     "base_uri": "https://localhost:8080/"
    },
    "executionInfo": {
     "elapsed": 36,
     "status": "ok",
     "timestamp": 1727280332434,
     "user": {
      "displayName": "Sanskriti Gupta",
      "userId": "14423739044698282671"
     },
     "user_tz": 240
    },
    "id": "g28s7mV3YzuE",
    "outputId": "865e4c8e-1bac-41a3-fdd7-21426532353b"
   },
   "outputs": [],
   "source": [
    "init_state_info = reset_state_search(ENV, WORLD_MAP_OBSERVATIONS)\n",
    "plan, visited = dfs(init_state_info, GRAPH, WORLD_STATE_HASH, is_goal = is_goal_coin if GAME_TYPE==\"coin\" else is_goal_mapreader)\n",
    "print('The plan:', plan)\n",
    "print('Number of visited states:', len(visited))"
   ]
  },
  {
   "cell_type": "markdown",
   "metadata": {
    "id": "NgpVJSIJM9Fh"
   },
   "source": [
    "# Heuristic Functions"
   ]
  },
  {
   "cell_type": "markdown",
   "metadata": {},
   "source": [
    "Heuristics are functions that estimate the cost or distance from a given state to the goal state in search algorithms. They play a crucial role in informed search strategies, such as A* and greedy best-first search, by guiding the search process towards the most promising paths. The importance of heuristics lies in their ability to reduce the search space and improve efficiency. By providing an estimate of the remaining cost to reach the goal, heuristics help prioritize which nodes to explore first, potentially leading to faster solutions. \n",
    "\n",
    "A well-designed heuristic can significantly enhance the performance of an algorithm, making it more effective in finding optimal or near-optimal solutions. Conversely, a poor heuristic may lead to increased computation time and suboptimal paths. In the context of the Coin and Map Reader games, implementing effective heuristic functions can help the search algorithm navigate the environment more intelligently, ultimately resulting in quicker and more efficient gameplay."
   ]
  },
  {
   "cell_type": "markdown",
   "metadata": {
    "id": "afqBI3ofM_gj"
   },
   "source": [
    "**TODO:** Implement heuristic functions for the Coin and Map Reader games. The heuristic functions take a state as input (represented as a state ID, a string), and returns a floating point value, which is the estimated distance to the goal.\n",
    "\n",
    "For this function, you are allowed to access and use the following global variables: `GRAPH, WORLD_STATE_HASH, WORLD_OBSERVATION_HASH, WORLD_MAP, WORLD_MAP_OBSERVATIONS, COORDINATES`.\n",
    "\n",
    "**Tips:**\n",
    "- Think about what information tells you that you are at the goal state, and what the requirements for both games are.\n",
    "- What data structure can you use to determine the distance from the current state to the goal state?\n",
    "- There are many ways to implement a heuristic function, and the effectiveness of a heuristic can vary depending on the problem. You may need to experiment with different heuristics to find the most effective one for each game!"
   ]
  },
  {
   "cell_type": "code",
   "execution_count": 20,
   "metadata": {
    "executionInfo": {
     "elapsed": 27,
     "status": "ok",
     "timestamp": 1727280332434,
     "user": {
      "displayName": "Sanskriti Gupta",
      "userId": "14423739044698282671"
     },
     "user_tz": 240
    },
    "id": "E0O2E3JmNHth"
   },
   "outputs": [],
   "source": [
    "# export - DO NOT MODIFY OR MOVE THIS LINE\n",
    "\n",
    "def h_coin(state: str) -> float:\n",
    "    h_value = 0.0\n",
    "    ### YOUR CODE BELOW HERE ###\n",
    "\n",
    "    raise NotImplementedError # remove this line when you implement the function!\n",
    "\n",
    "    ### YOUR CODE ABOVE HERE ###\n",
    "    return h_value"
   ]
  },
  {
   "cell_type": "code",
   "execution_count": 21,
   "metadata": {
    "executionInfo": {
     "elapsed": 34,
     "status": "ok",
     "timestamp": 1727280332843,
     "user": {
      "displayName": "Sanskriti Gupta",
      "userId": "14423739044698282671"
     },
     "user_tz": 240
    },
    "id": "Brh8FsMINcdP"
   },
   "outputs": [],
   "source": [
    "# export - DO NOT MODIFY OR MOVE THIS LINE\n",
    "\n",
    "def h_mapreader(state: str) -> float:\n",
    "    h_value = 0.0\n",
    "    ### YOUR CODE BELOW HERE ###\n",
    "\n",
    "    raise NotImplementedError # remove this line when you implement the function!\n",
    "\n",
    "    ### YOUR CODE ABOVE HERE ###\n",
    "    return h_value"
   ]
  },
  {
   "cell_type": "markdown",
   "metadata": {
    "id": "10sPnXYbM3At"
   },
   "source": [
    "# A* Search"
   ]
  },
  {
   "cell_type": "markdown",
   "metadata": {
    "id": "9779kDIiM4tm"
   },
   "source": [
    "**TODO:** Implement A*. The function takes the following parameters:\n",
    "\n",
    "- `init_state_info`: the data structure given by `reset_state_search()` containing state id, state dictionary, initial observation, initial inventory, and valid actions.\n",
    "- `graph`: a list of state transitions (i.e., `GRAPH`)\n",
    "- `world_state_hash`: a dictionary that maps world state ids to state dictionaries (i.e., `WORLD_STATE_HASH`)\n",
    "- `is_goal`: a function that takes a state and returns True or False whether that state is a goal state (i.e., `is_goal_coin_game` or `is_goal_map_reader`).\n",
    "- `h_func`: the heuristic function, takes a state and returns the estimated distance to the goal state (i.e., `h_coin` or `h_mapreader`).\n",
    "\n",
    "The function returns the following:\n",
    "- `the_plan`: a list of actions, e.g. `[action_string_1, action_string_2, ..., action_string_n]`\n",
    "- `visited_states`: A list of all states visited during the search, e.g., `[state_1, state_2, ..., state_m]`. The states should be represented as state IDs (strings). Note that the length of `visited_states` might not necessarily be the same length as `the_plan`. \n",
    "\n",
    "**Important Notes:**\n",
    "- The coin and mapreader graphs have uniform edge costs, so the cost of moving from one state to another is always some constant value. For your implementation purposes, you can assume that the cost of moving from one state to another is 1.\n",
    "- Please break ties in the priority queue by going with lower state IDs first. For example, if you have two state IDs `1`, `2` with the same cost, choose `1` first since its state ID is lower. Since these state IDs are strings, please compare them as strings, not as integers. Do not use any other method for breaking ties.\"\n",
    "- You should **only** use the parameters provided to the function to implement your solution. You are welcome to use the helper functions provided above to help you implement your solution. Your solution should be efficient in terms of time and space - you should not be storing excess information in your search, nor should you be visiting the same state multiple times.\n",
    "- For your implementation, you should **not** terminate if you find the goal state in the successor function when expanding the search. You should only terminate when you visit the goal state in the search algorithm. While many search algorithms can terminate upon finding a goal state when expanding successors, we are requiring that you expand all nodes in the search to ensure that all solutions return the same path when expanding successors. As such, you should only terminate when you visit the goal state in the search algorithm. "
   ]
  },
  {
   "cell_type": "code",
   "execution_count": 22,
   "metadata": {
    "executionInfo": {
     "elapsed": 32,
     "status": "ok",
     "timestamp": 1727280332844,
     "user": {
      "displayName": "Sanskriti Gupta",
      "userId": "14423739044698282671"
     },
     "user_tz": 240
    },
    "id": "tiascYj8OA5b"
   },
   "outputs": [],
   "source": [
    "# export - DO NOT MODIFY OR MOVE THIS LINE\n",
    "\n",
    "def a_star(init_state_info: dict, graph: list[tuple[str, str, str]], world_state_hash: dict, is_goal: callable, h_func: callable) -> tuple[list[str], list[str]]:\n",
    "    the_plan = []\n",
    "    visited_states = []\n",
    "\n",
    "    ### YOUR CODE BELOW HERE ###\n",
    "\n",
    "    raise NotImplementedError # remove this line when you implement the function!\n",
    "\n",
    "    ### YOUR CODE ABOVE HERE ###\n",
    "    return the_plan, visited_states"
   ]
  },
  {
   "cell_type": "markdown",
   "metadata": {
    "id": "we6F6racPv5-"
   },
   "source": [
    "Test A*"
   ]
  },
  {
   "cell_type": "code",
   "execution_count": null,
   "metadata": {
    "colab": {
     "base_uri": "https://localhost:8080/"
    },
    "executionInfo": {
     "elapsed": 27,
     "status": "ok",
     "timestamp": 1727280332844,
     "user": {
      "displayName": "Sanskriti Gupta",
      "userId": "14423739044698282671"
     },
     "user_tz": 240
    },
    "id": "oPrBZRFpPxE8",
    "outputId": "fdac4530-45ee-4bdd-dc08-e5f35c515a67"
   },
   "outputs": [],
   "source": [
    "init_state_info = reset_state_search(ENV, WORLD_MAP_OBSERVATIONS)\n",
    "plan, visited = a_star(init_state_info, GRAPH, WORLD_STATE_HASH,\n",
    "                       h_func = h_coin if GAME_TYPE == \"coin\" else h_mapreader,\n",
    "                       is_goal = is_goal_coin if GAME_TYPE == \"coin\" else is_goal_mapreader)\n",
    "print('The plan:', plan)\n",
    "print('Number of visited states:', len(visited))"
   ]
  },
  {
   "cell_type": "markdown",
   "metadata": {
    "id": "G7RUu9yKQJ7J"
   },
   "source": [
    "# Testing"
   ]
  },
  {
   "cell_type": "markdown",
   "metadata": {
    "id": "j-1eh2TASPcF"
   },
   "source": [
    "## Generating Outputs For Each Search Algorithm "
   ]
  },
  {
   "cell_type": "markdown",
   "metadata": {
    "id": "JjbIEzCV8-e7"
   },
   "source": [
    "Run all the environments that are in files in the file system. This produces a dictionary that relates game configuration (game type, game parameters, seed) to a tuple containing the plan and the visited states.\n",
    "\n",
    "You should remove all print statements from your code before running the below cells, as it will make the output difficult to read."
   ]
  },
  {
   "cell_type": "code",
   "execution_count": 24,
   "metadata": {
    "executionInfo": {
     "elapsed": 18,
     "status": "ok",
     "timestamp": 1727280332845,
     "user": {
      "displayName": "Sanskriti Gupta",
      "userId": "14423739044698282671"
     },
     "user_tz": 240
    },
    "id": "YtY39XsCdS1t"
   },
   "outputs": [
    {
     "ename": "",
     "evalue": "",
     "output_type": "error",
     "traceback": [
      "\u001b[1;31mRunning cells with 'base (Python 3.12.8)' requires the ipykernel package.\n",
      "\u001b[1;31mRun the following command to install 'ipykernel' into the Python environment. \n",
      "\u001b[1;31mCommand: 'conda install -n base ipykernel --update-deps --force-reinstall'"
     ]
    }
   ],
   "source": [
    "def run_all_environments(algorithm: callable) -> dict:\n",
    "    global GAME_TYPE, GAME_PARAMS, SEED\n",
    "    global GRAPH, WORLD_STATE_HASH, WORLD_OBSERVATION_HASH, WORLD_MAP, WORLD_MAP_OBSERVATIONS, COORDINATES\n",
    "    files = os.listdir('environment_files/')\n",
    "    results = {}\n",
    "    for file in files:\n",
    "        m = re.search(r'([a-z]+)\\+([a-zA-Z0-9,=]+)\\+seed\\=([0-9]+).json', file)\n",
    "        if m is not None and m.lastindex >= 3:\n",
    "            GAME_TYPE = m[1]\n",
    "            GAME_PARAMS = m[2]\n",
    "            SEED = int(m[3])\n",
    "            print(f'============ game={GAME_TYPE} params={GAME_PARAMS} seed={SEED} ============')\n",
    "            GRAPH, WORLD_STATE_HASH, WORLD_OBSERVATION_HASH, WORLD_MAP, WORLD_MAP_OBSERVATIONS, COORDINATES = read_environment_file(GAME_TYPE, GAME_PARAMS, SEED)\n",
    "            ENV.load(gameName=GAME_TYPE, gameParams=GAME_PARAMS)\n",
    "            init_state_info = reset_state_search(ENV, WORLD_MAP_OBSERVATIONS)\n",
    "            if algorithm.__name__ == 'a_star':\n",
    "                plan, visited = algorithm(init_state_info, GRAPH, WORLD_STATE_HASH,\n",
    "                                            is_goal = eval('is_goal_' + GAME_TYPE),\n",
    "                                            h_func = eval('h_' + GAME_TYPE))\n",
    "            else:\n",
    "                plan, visited = algorithm(init_state_info, GRAPH, WORLD_STATE_HASH,\n",
    "                            is_goal = eval('is_goal_' + GAME_TYPE))\n",
    "        results[(GAME_TYPE, GAME_PARAMS, SEED)] = (plan, visited)\n",
    "    for setting in results.keys():\n",
    "        plan, visited = results[setting]\n",
    "        if plan is None or visited is None or len(plan) == 0 or len(visited) == 0:\n",
    "            print(f\"{algorithm.__name__} did not produce a valid result for {setting}\")\n",
    "    return results"
   ]
  },
  {
   "cell_type": "code",
   "execution_count": null,
   "metadata": {
    "colab": {
     "base_uri": "https://localhost:8080/"
    },
    "executionInfo": {
     "elapsed": 172833,
     "status": "ok",
     "timestamp": 1727280505662,
     "user": {
      "displayName": "Sanskriti Gupta",
      "userId": "14423739044698282671"
     },
     "user_tz": 240
    },
    "id": "swShiLP2dcMl",
    "outputId": "2af158e7-fb63-48bc-eb35-9b09e0c16c08"
   },
   "outputs": [],
   "source": [
    "# BFS results\n",
    "output_dir = 'student_outputs'\n",
    "os.makedirs(output_dir, exist_ok=True)\n",
    "\n",
    "results = run_all_environments(algorithm=bfs)\n",
    "print(results)\n",
    "with open(os.path.join(output_dir, 'bfs.txt'), 'w') as f:\n",
    "    f.write(str(results))"
   ]
  },
  {
   "cell_type": "code",
   "execution_count": null,
   "metadata": {
    "colab": {
     "base_uri": "https://localhost:8080/"
    },
    "executionInfo": {
     "elapsed": 120717,
     "status": "ok",
     "timestamp": 1727280626341,
     "user": {
      "displayName": "Sanskriti Gupta",
      "userId": "14423739044698282671"
     },
     "user_tz": 240
    },
    "id": "YYSKFsqzeOsN",
    "outputId": "74954977-dc3a-4132-8ad4-c4eac055871c"
   },
   "outputs": [],
   "source": [
    "# DFS results\n",
    "output_dir = 'student_outputs'\n",
    "os.makedirs(output_dir, exist_ok=True)\n",
    "\n",
    "results = run_all_environments(algorithm=dfs)\n",
    "print(results)\n",
    "with open('student_outputs/dfs.txt', 'w') as f:\n",
    "    f.write(str(results))"
   ]
  },
  {
   "cell_type": "code",
   "execution_count": null,
   "metadata": {
    "colab": {
     "base_uri": "https://localhost:8080/"
    },
    "executionInfo": {
     "elapsed": 118293,
     "status": "ok",
     "timestamp": 1727280744618,
     "user": {
      "displayName": "Sanskriti Gupta",
      "userId": "14423739044698282671"
     },
     "user_tz": 240
    },
    "id": "FdE5BOv8eV5n",
    "outputId": "68e182c3-69e1-46b3-ecb3-ef235bf56f3a"
   },
   "outputs": [],
   "source": [
    "# A* results\n",
    "output_dir = 'student_outputs'\n",
    "os.makedirs(output_dir, exist_ok=True)\n",
    "\n",
    "results = run_all_environments(algorithm=a_star)\n",
    "print(results)\n",
    "with open('student_outputs/a_star.txt', 'w') as f:\n",
    "    f.write(str(results))"
   ]
  },
  {
   "cell_type": "markdown",
   "metadata": {},
   "source": [
    "## Comparing Generated Results to Expected Outputs"
   ]
  },
  {
   "cell_type": "markdown",
   "metadata": {},
   "source": [
    "The [expected outputs](expected_outputs/) directory contains the expected outputs for each search algorithm for each game configuration. We will compare the generated outputs from your `run_all_environments()` functions (now stored in the [student outputs](student_outputs/) directory) to the expected outputs to determine if your implementations meet our benchmarks.\n",
    "\n",
    "We will be doing the same comparisons here as we will in the autograder (though we will be doing it in a more automated fashion, and test your code with more environments). This is a good litmus test for you to see how your code will perform in the autograder (since most of the environments we will test with are provided)."
   ]
  },
  {
   "cell_type": "code",
   "execution_count": 29,
   "metadata": {},
   "outputs": [],
   "source": [
    "def evaluate_student_outputs(algorithm: str) -> None:\n",
    "    with open(f'student_outputs/{algorithm}.txt', 'r') as f:\n",
    "        student_solution = eval(f.read())\n",
    "\n",
    "    with open(f'expected_outputs/{algorithm}.txt', 'r') as f:\n",
    "        expected_solution = eval(f.read())\n",
    "\n",
    "    failed_configs = set()\n",
    "    for config in student_solution:\n",
    "\n",
    "        student_path = student_solution[config][0]\n",
    "        expected_path = expected_solution[config][0]\n",
    "        student_visited_size = len(student_solution[config][1])\n",
    "        expected_visited_size = len(expected_solution[config][1])\n",
    "\n",
    "        path_incorrect = False\n",
    "        vs_incorrect = False\n",
    "\n",
    "        if student_visited_size > expected_visited_size:\n",
    "            vs_incorrect = True\n",
    "            failed_configs.add(config)\n",
    "            print(\"Visited set sizes differed for \" + str(config))\n",
    "            print(\"\\tstudent visited set size: \" + str(student_visited_size))\n",
    "            print(\"\\texpected visited set size: \" + str(expected_visited_size))\n",
    "\n",
    "        if len(student_path) != len(expected_path):\n",
    "            path_incorrect = True\n",
    "\n",
    "        if not path_incorrect and not vs_incorrect:\n",
    "            for i in range(len(student_path)):\n",
    "                if student_path[i] != expected_path[i] and expected_path[i] in [\n",
    "                    \"take coin\",\n",
    "                    \"put coin in box\",\n",
    "                ]:\n",
    "                    path_incorrect = True\n",
    "                    break\n",
    "\n",
    "        if path_incorrect:\n",
    "            print(f\"Incorrect path for {config}\")\n",
    "            print(f\"student path: {student_path}\")\n",
    "            print(f\"expected path: {expected_path}\")\n",
    "            failed_configs.add(config)\n",
    "\n",
    "    if len(failed_configs) == 0:\n",
    "        print(f\"Student implementation of {algorithm} succeeded for all provided configurations!\")\n",
    "        return \n",
    "    \n",
    "    for config in student_solution:\n",
    "        if config not in failed_configs:\n",
    "            print(f\"Student implementation of {algorithm} succeeded for {config}\")"
   ]
  },
  {
   "cell_type": "markdown",
   "metadata": {},
   "source": [
    "Modify the variable `ALGORITHM` below to test each of your search algorithms for all of the provided Coin Game and Map Reader Game configurations."
   ]
  },
  {
   "cell_type": "code",
   "execution_count": null,
   "metadata": {},
   "outputs": [],
   "source": [
    "# set ALGORITHM TO \"bfs\", \"dfs\", or \"a_star\" to evaluate the your implementation\n",
    "ALGORITHM = \"bfs\"\n",
    "evaluate_student_outputs(ALGORITHM)"
   ]
  },
  {
   "cell_type": "markdown",
   "metadata": {
    "id": "JwvC07GOV3b-"
   },
   "source": [
    "## Heuristic Admissibility & Consistency Checks"
   ]
  },
  {
   "cell_type": "markdown",
   "metadata": {},
   "source": [
    "### Heuristic Admissibility Check"
   ]
  },
  {
   "cell_type": "markdown",
   "metadata": {
    "id": "Mi7kBmAeWLkQ"
   },
   "source": [
    "The following function evaluates whether your heuristic function is admissible. To do this, you will pass in your heuristic function. The function will return a boolean value indicating whether your heuristic is admissible. An admissible heuristic is one that never overestimates the cost to reach the goal. If your heuristic is admissible, the function will return `True`. If your heuristic is inadmissible, the function will return `False`.\n"
   ]
  },
  {
   "cell_type": "code",
   "execution_count": 34,
   "metadata": {
    "executionInfo": {
     "elapsed": 21,
     "status": "ok",
     "timestamp": 1727280744618,
     "user": {
      "displayName": "Sanskriti Gupta",
      "userId": "14423739044698282671"
     },
     "user_tz": 240
    },
    "id": "sN8LsfbaPnCf"
   },
   "outputs": [],
   "source": [
    "def heuristic_admissibility_check(h_func: callable, is_goal: callable, key: callable = lambda state: state) -> bool:\n",
    "    \"\"\"\n",
    "    Evaluates whether the provided heuristic function is admissible.\n",
    "\n",
    "    An admissible heuristic is one that never overestimates the cost to reach the goal.\n",
    "    This function checks the heuristic against all states in the environment and returns\n",
    "    True if the heuristic is admissible, or False if it is inadmissible.\n",
    "\n",
    "    Parameters:\n",
    "    h_func (callable): The heuristic function to evaluate.\n",
    "    is_goal (callable): A function that checks if a given state is a goal state.\n",
    "    key (callable, optional): A function to transform the state representation. Defaults to the identity function.\n",
    "\n",
    "    Returns:\n",
    "    bool: True if the heuristic is admissible, False otherwise.\n",
    "    \"\"\"\n",
    "    G = nx.DiGraph()\n",
    "    for edge in GRAPH:\n",
    "        G.add_edge(edge[0], edge[1], weight=1)\n",
    "    \n",
    "    goals = [node for node in G.nodes if is_goal(key(node))]\n",
    "    \n",
    "    if not goals:\n",
    "        raise ValueError(\"No goal states found in the graph.\")\n",
    "    \n",
    "    reverse_G = G.reverse()\n",
    "    \n",
    "    shortest_to_goal = nx.multi_source_dijkstra_path_length(reverse_G, sources=goals, weight=\"weight\")\n",
    "    \n",
    "    for node in G.nodes:\n",
    "        h_value = h_func(key(node))\n",
    "        h_star = shortest_to_goal.get(node, float('inf'))\n",
    "        if h_value > h_star:\n",
    "            print(\"Inadmissible heuristic\")\n",
    "            print(\"State:\", key(node))\n",
    "            print(\"Heuristic value:\", h_value, \"Shortest path to goal:\", h_star)\n",
    "            return False\n",
    "    \n",
    "    return True"
   ]
  },
  {
   "cell_type": "code",
   "execution_count": null,
   "metadata": {
    "colab": {
     "base_uri": "https://localhost:8080/"
    },
    "id": "GBJOiziiTJ-s",
    "outputId": "3f02ce38-0bc6-455f-f676-18789e5fc939"
   },
   "outputs": [],
   "source": [
    "if GAME_TYPE == \"coin\":\n",
    "    coin_admissibility = heuristic_admissibility_check(h_func=h_coin, is_goal=is_goal_coin)\n",
    "    print(f\"Coin Game Heuristic Admissibility: {coin_admissibility}\")\n",
    "else:\n",
    "    mapreader_admissibility = heuristic_admissibility_check(h_func=h_mapreader, is_goal=is_goal_mapreader)\n",
    "    print(f\"Mapreader Game Headuristic Admissibility: {mapreader_admissibility}\")"
   ]
  },
  {
   "cell_type": "markdown",
   "metadata": {
    "id": "vRtuVAKjs1wR"
   },
   "source": [
    "### Heuristic Consistency Check"
   ]
  },
  {
   "cell_type": "markdown",
   "metadata": {
    "id": "FONQrYdLLtgf"
   },
   "source": [
    "The following function evaluates whether your heuristic function is consistent. To do this, you will pass in your heuristic function. The function will return a boolean value indicating whether your heuristic is consistent. A consistent heuristic is one that satisfies the triangle inequality. If your heuristic is consistent, the function will return `True`. If your heuristic is inconsistent, the function will return `False`."
   ]
  },
  {
   "cell_type": "code",
   "execution_count": 36,
   "metadata": {
    "id": "QIsRzvENKe5K"
   },
   "outputs": [],
   "source": [
    "def heuristic_consistency_check(h_func: callable, is_goal: callable, key: callable = lambda state: state) -> bool:\n",
    "    \"\"\"\n",
    "    Evaluates whether the given heuristic function is consistent. A consistent heuristic satisfies the triangle inequality.\n",
    "\n",
    "    Parameters:\n",
    "    h_func (callable): The heuristic function to evaluate.\n",
    "    is_goal (callable): A function that checks if a given state is a goal state.\n",
    "    key (callable, optional): A function to transform the state representation. Defaults to the identity function.\n",
    "\n",
    "    Returns:\n",
    "    bool: True if the heuristic is consistent, False otherwise.\n",
    "    \"\"\"\n",
    "    G = nx.DiGraph()\n",
    "    for edge in GRAPH:\n",
    "        G.add_edge(edge[0], edge[1], weight=1)\n",
    "\n",
    "    goals = [node for node in G.nodes if is_goal(key(node))]\n",
    "    \n",
    "    if not goals:\n",
    "        raise ValueError(\"No goal states found in the graph.\")\n",
    "\n",
    "    if any([h_func(key(node)) != 0 for node in goals]):\n",
    "        print(\"Inconsistent heuristic: Goal states must have heuristic value of 0.\")\n",
    "        return False\n",
    "\n",
    "    for u, v, data in G.edges(data=True):\n",
    "        weight = data[\"weight\"]\n",
    "        h_u = h_func(key(u))\n",
    "        h_v = h_func(key(v))\n",
    "        \n",
    "        if h_u > h_v + weight:\n",
    "            print(\"Inconsistent heuristic\")\n",
    "            print(f\"State {key(u)} (h: {h_u}) and State {key(v)} (h: {h_v})\")\n",
    "            print(f\"Edge weight: {weight}\")\n",
    "            return False\n",
    "\n",
    "    return True"
   ]
  },
  {
   "cell_type": "code",
   "execution_count": null,
   "metadata": {
    "id": "I1PoRGOQJDVB"
   },
   "outputs": [],
   "source": [
    "if GAME_TYPE == \"coin\":\n",
    "    coin_consistency = heuristic_consistency_check(h_func=h_coin, is_goal=is_goal_coin)\n",
    "    print(f\"Coin Game Consistency: {coin_consistency}\")\n",
    "else:\n",
    "    mapreader_consistency = heuristic_consistency_check(h_func=h_mapreader, is_goal=is_goal_mapreader)\n",
    "    print(f\"Mapreader Game Consistency: {mapreader_consistency}\")"
   ]
  },
  {
   "cell_type": "markdown",
   "metadata": {
    "id": "z_r4dx6gdNIh"
   },
   "source": [
    "# Grading"
   ]
  },
  {
   "cell_type": "markdown",
   "metadata": {
    "id": "MrFB5KLUdO71"
   },
   "source": [
    "Grading will consist of testing all provided game configurations on BFS, DFS, and A*. We will _also_ test your algorithms on hidden configurations of coin game and map reader game. Rest assured, these configurations do **NOT** have any invalid game settings or edge cases that you must consider (i.e., there will ALWAYS be a path to the goal, there will always be a start state, etc.). We are simply testing your code further to ensure that no cases are hardcoded. \n",
    "\n",
    "Your heuristics will be tested for admissibility and consistency as well. Your heuristic must be admissible and consistent for each environment, for each game type (no partial credit will be awarded).\n",
    "\n",
    "## Rubric\n",
    "- 0.5 point for each correct plan in the _provided_ game configurations, per algorithm, based on the provided instructions (60 points).\n",
    "- 0.5 point for each correct plan in the _hidden_ game configurations, per algorithm, based on the provided instructions (30 points).\n",
    "- 2.5 points for admissible heuristic for each of the two game types (5 points).\n",
    "- 2.5 points for consistency heuristic for each of the two game types (5 points).\n",
    "- -0.1 point deduction for each 10% difference between the number of visited states and the set threshold of expected visited states.\n",
    "\n",
    "**Maximum total points: 100**\n",
    "\n",
    "## Important Details\n",
    "Grading will be conducted by comparing your plans and number of visited states to our rubric. We will add cells to your notebook at grading time to load and test our hidden world configuration files. \n",
    "\n",
    "The autograder will display \"sanity check\" results to help you verify that your code behaves the same in the autograder as it does locally. These tests are a subset of the full autograder, and will test the some of the same configurations that we have provided. It is your responsibility to test your code and verify its correctness, and you should use the provided resources to do so. \n",
    "\n",
    "We will also inspect the entire notebook to check if your algorithm implementations include details that are inconsistent with the assignment (e.g., hard-coding values or actions to pass tests) and to make sure no cells were altered to provide unearned grading results. Doing so will result in a grade of 0 for the entire assignment, and may be reported to the Office of Student Integrity.\n",
    "\n",
    "Your submissions are also subject to plagiarism checks - as a reminder, all code must be written by yourself, and no one else (classmates, excessive internet resources, LLMs, etc.). You are permitted to use course resources to help you complete the assignment. Any violations of this will receive a 0 and may be reported to the Office of Student Integrity for further investigation. "
   ]
  },
  {
   "cell_type": "markdown",
   "metadata": {
    "id": "rpRa0E6ogYL6"
   },
   "source": [
    "# Submission Instructions"
   ]
  },
  {
   "cell_type": "markdown",
   "metadata": {
    "id": "_JgYFNFdgal8"
   },
   "source": [
    "Upload this notebook with the name `submission.ipynb` file to Gradescope. The autograder will **only** run successfully if your file is named this way. You must ensure that you have removed all print statements from **your** code, or the autograder may fail to run. Excessive print statements will also result in muddled test case outputs, which makes it more difficult to interpret your score. \n",
    "\n",
    "We've added appropriate comments to the top of certain cells for the autograder to export (`# export`). You do NOT have to do anything (e.g. remove print statements) to cells we have provided - anything related to those have been handled for you. You are responsible for ensuring your own code has no syntax errors or unnecessary print statements. You ***CANNOT*** modify the export comments at the top of the cells, or the autograder will fail to run on your submission.\n",
    "\n",
    "You should ***not*** add any cells that your code requires to the notebook when submitting. You're welcome to add any code as you need to extra cells when testing, but they will not be graded. Only the provided cells will be graded. As mentioned in the top of the notebook, **any helper functions that you add should be nested within the function that uses them.**\n",
    "\n",
    "If you encounter any issues with the autograder, please feel free to make a post on Ed Discussion. We highly recommend making a public post to clarify any questions, as it's likely that other students have the same questions as you! If you have a question that needs to be private, please make a private post."
   ]
  }
 ],
 "metadata": {
  "colab": {
   "collapsed_sections": [
    "NMJadvTO-O7z",
    "f0GaE8xE-T6A",
    "aG_y6anfARuO",
    "nz8w9KV0FtMX",
    "9idDEzGTV-PQ",
    "yYUz6tStZQ64",
    "q88Q1uEbHlrd"
   ],
   "provenance": [
    {
     "file_id": "1i30BLucrj-norWf5r3JmsypZoJW6YFfK",
     "timestamp": 1724733693075
    },
    {
     "file_id": "1kE2QZIEY2rpthTeVif1PPrwDlAUmoHt8",
     "timestamp": 1724273845744
    }
   ]
  },
  "kernelspec": {
   "display_name": "base",
   "language": "python",
   "name": "python3"
  },
  "language_info": {
   "codemirror_mode": {
    "name": "ipython",
    "version": 3
   },
   "file_extension": ".py",
   "mimetype": "text/x-python",
   "name": "python",
   "nbconvert_exporter": "python",
   "pygments_lexer": "ipython3",
   "version": "3.12.8"
  }
 },
 "nbformat": 4,
 "nbformat_minor": 0
}
